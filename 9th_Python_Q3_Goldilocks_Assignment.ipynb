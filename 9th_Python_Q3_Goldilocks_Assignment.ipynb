{
  "nbformat": 4,
  "nbformat_minor": 0,
  "metadata": {
    "colab": {
      "provenance": [],
      "authorship_tag": "ABX9TyP1ZeWb/qccf92ALvIOa2di",
      "include_colab_link": true
    },
    "kernelspec": {
      "name": "python3",
      "display_name": "Python 3"
    },
    "language_info": {
      "name": "python"
    }
  },
  "cells": [
    {
      "cell_type": "markdown",
      "metadata": {
        "id": "view-in-github",
        "colab_type": "text"
      },
      "source": [
        "<a href=\"https://colab.research.google.com/github/billimonopoly/python_101/blob/main/9th_Python_Q3_Goldilocks_Assignment.ipynb\" target=\"_parent\"><img src=\"https://colab.research.google.com/assets/colab-badge.svg\" alt=\"Open In Colab\"/></a>"
      ]
    },
    {
      "cell_type": "code",
      "source": [
        "def find_count(wantedword): \n",
        "  with open(\"goldilocks.txt\",'r') as data_file:\n",
        "    a_count = 0\n",
        "    for line in data_file:\n",
        "      for word in line.split():\n",
        "        if word == wantedword :\n",
        "          a_count += 1\n",
        "    final_count = a_count\n",
        "    return(final_count)\n",
        "print('the number of times mama appears in the story is:', find_count('Mama'), 'times')\n",
        "print('the number of times papa appears in the story is:', find_count('Papa'), 'times')"
      ],
      "metadata": {
        "colab": {
          "base_uri": "https://localhost:8080/"
        },
        "id": "6OAjABZ34fIm",
        "outputId": "7f66edc0-8a81-44b7-97a7-80295d9b7e1f"
      },
      "execution_count": 99,
      "outputs": [
        {
          "output_type": "stream",
          "name": "stdout",
          "text": [
            "the number of times mama appears in the story is: 3 times\n",
            "the number of times papa appears in the story is: 3 times\n"
          ]
        }
      ]
    }
  ]
}