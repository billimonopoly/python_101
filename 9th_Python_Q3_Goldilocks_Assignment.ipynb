{
  "nbformat": 4,
  "nbformat_minor": 0,
  "metadata": {
    "colab": {
      "provenance": [],
      "authorship_tag": "ABX9TyM27Puv+C7IVy8CSsk8gxMj",
      "include_colab_link": true
    },
    "kernelspec": {
      "name": "python3",
      "display_name": "Python 3"
    },
    "language_info": {
      "name": "python"
    }
  },
  "cells": [
    {
      "cell_type": "markdown",
      "metadata": {
        "id": "view-in-github",
        "colab_type": "text"
      },
      "source": [
        "<a href=\"https://colab.research.google.com/github/billimonopoly/python_101/blob/main/9th_Python_Q3_Goldilocks_Assignment.ipynb\" target=\"_parent\"><img src=\"https://colab.research.google.com/assets/colab-badge.svg\" alt=\"Open In Colab\"/></a>"
      ]
    },
    {
      "cell_type": "code",
      "source": [
        "def find_count(wantedword): \n",
        "  with open(\"goldilocks.txt\",'r') as data_file:\n",
        "    a_count = 0\n",
        "    for line in data_file:\n",
        "      for word in line.split():\n",
        "        if word == wantedword :\n",
        "          a_count += 1\n",
        "    final_count = a_count\n",
        "    return(final_count)\n",
        "\n",
        "maxline = max(open('goldilocks.txt'), key=len)\n",
        "minline = min(open('goldilocks.txt'), key=len)\n",
        "\n",
        "print('BASE ASSIGNMENT', '\\n')\n",
        "\n",
        "print('Count of Mama is:', find_count('Mama'), 'times', '\\n')\n",
        "print('Count of Papa is:', find_count('Papa'), 'times', '\\n')\n",
        "\n",
        "print('EXTRA ASSIGNMENT', '\\n')\n",
        "\n",
        "print('Number of characters in the longest line:',len(maxline),'\\n''Longest line:', maxline)\n",
        "print('Number of characters in the shortest line:',len(minline),'\\n''Shortest line:', minline)"
      ],
      "metadata": {
        "colab": {
          "base_uri": "https://localhost:8080/"
        },
        "id": "6OAjABZ34fIm",
        "outputId": "82ed883a-a384-4958-ee3f-6cc2ee8ea4be"
      },
      "execution_count": 116,
      "outputs": [
        {
          "output_type": "stream",
          "name": "stdout",
          "text": [
            "BASE ASSIGNMENT \n",
            "\n",
            "Count of Mama is: 3 times \n",
            "\n",
            "Count of Papa is: 3 times \n",
            "\n",
            "EXTRA ASSIGNMENT \n",
            "\n",
            "Number of characters in the longest line: 115 \n",
            "Longest line: Goldilocks was very tired by this time, so she went upstairs to the bedroom. She lay down in the first bed, but it\n",
            "\n",
            "Number of characters in the shortest line: 7 \n",
            "Shortest line: THE END\n"
          ]
        }
      ]
    }
  ]
}