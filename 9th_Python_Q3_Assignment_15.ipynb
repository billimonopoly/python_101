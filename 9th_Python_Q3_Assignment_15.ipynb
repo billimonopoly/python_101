{
  "nbformat": 4,
  "nbformat_minor": 0,
  "metadata": {
    "colab": {
      "provenance": [],
      "authorship_tag": "ABX9TyPoINRU42YEsmiq0dwwRXfC",
      "include_colab_link": true
    },
    "kernelspec": {
      "name": "python3",
      "display_name": "Python 3"
    },
    "language_info": {
      "name": "python"
    }
  },
  "cells": [
    {
      "cell_type": "markdown",
      "metadata": {
        "id": "view-in-github",
        "colab_type": "text"
      },
      "source": [
        "<a href=\"https://colab.research.google.com/github/billimonopoly/python_101/blob/main/9th_Python_Q3_Assignment_15.ipynb\" target=\"_parent\"><img src=\"https://colab.research.google.com/assets/colab-badge.svg\" alt=\"Open In Colab\"/></a>"
      ]
    },
    {
      "cell_type": "code",
      "execution_count": 8,
      "metadata": {
        "colab": {
          "base_uri": "https://localhost:8080/"
        },
        "id": "fxGtI3FrRpXL",
        "outputId": "1d2e0edd-cc94-4ce3-80e6-fdbf672aa733"
      },
      "outputs": [
        {
          "output_type": "stream",
          "name": "stdout",
          "text": [
            "Enter a boy's name, or N if you do not wish to enter a boy's name: senai\n",
            "senai is not one of the most popular boy's names.\n",
            "\n",
            "Enter a girl's name, or N if you do not wish to enter a girl's name: sarah\n",
            "sarah is one of the most popular girl's names.\n"
          ]
        }
      ],
      "source": [
        "boy_names = []\n",
        "for line in open('/BoyNames.txt', 'r'):\n",
        "    boy_names.append(line.strip())\n",
        "\n",
        "girl_names = []\n",
        "for line in open('/GirlNames.txt','r'):\n",
        "    girl_names.append(line.strip())\n",
        "\n",
        "# Main method for program execution\n",
        "def main():\n",
        "    boy_name = input(\"Enter a boy's name, or N if you do not wish to enter a boy's name: \")\n",
        "\n",
        "    if boy_name == \"\":\n",
        "       print(\"You chose not to enter a boy's name.\")\n",
        "    else:\n",
        "       popular = False\n",
        "       for name in boy_names:\n",
        "            if name.lower() == boy_name.lower():\n",
        "                popular = True\n",
        "       if popular == True:\n",
        "            print(boy_name, \"is one of the most popular boy's names.\")\n",
        "       else:\n",
        "            print(boy_name, \"is not one of the most popular boy's names.\")\n",
        "\n",
        "    print(\"\")\n",
        "\n",
        "    girl_name = input(\"Enter a girl's name, or N if you do not wish to enter a girl's name: \")\n",
        "\n",
        "    if girl_name == \"\":\n",
        "       print(\"You chose not to enter a girl's name.\")\n",
        "    else:\n",
        "       popular = False\n",
        "       for name in girl_names:\n",
        "         if name.lower() == girl_name.lower():\n",
        "                popular = True\n",
        "       if popular == True:\n",
        "            print(girl_name, \"is one of the most popular girl's names.\")\n",
        "       else:\n",
        "            print(girl_name, \"is not one of the most popular girl's names.\")\n",
        "\n",
        "\n",
        "main()"
      ]
    }
  ]
}