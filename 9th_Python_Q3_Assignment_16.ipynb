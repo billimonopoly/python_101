{
  "nbformat": 4,
  "nbformat_minor": 0,
  "metadata": {
    "colab": {
      "provenance": [],
      "mount_file_id": "19XI1_cuyJvZALDVx5GuEknEukOVO7Qlr",
      "authorship_tag": "ABX9TyMLfYVdvTTOefeFduQUaSo5",
      "include_colab_link": true
    },
    "kernelspec": {
      "name": "python3",
      "display_name": "Python 3"
    },
    "language_info": {
      "name": "python"
    }
  },
  "cells": [
    {
      "cell_type": "markdown",
      "metadata": {
        "id": "view-in-github",
        "colab_type": "text"
      },
      "source": [
        "<a href=\"https://colab.research.google.com/github/billimonopoly/python_101/blob/main/9th_Python_Q3_Assignment_16.ipynb\" target=\"_parent\"><img src=\"https://colab.research.google.com/assets/colab-badge.svg\" alt=\"Open In Colab\"/></a>"
      ]
    },
    {
      "cell_type": "code",
      "source": [
        "def read():\n",
        "    text_1 = input('Enter a file name with its extension: ')\n",
        "    text_2 = input('Enter another file name with its extension: ')\n",
        "    object_file_1 = open(text_1, 'r')\n",
        "    object_file_2 = open(text_2, 'r')\n",
        "    for line in object_file_1:\n",
        "        words_1 = line.split()\n",
        "    for line in object_file_2:\n",
        "        words_2 = line.split()\n",
        "    words_list = words_1 + words_2\n",
        "    print(words_list)\n",
        "    words_set = set()\n",
        "    for word in words_list:\n",
        "        if word not in words_set:\n",
        "            words_set.add(word)\n",
        "    print(words_set)\n",
        "\n",
        "    words_1_set = set()\n",
        "    for word in words_1:\n",
        "        if word not in words_1_set:\n",
        "            words_1_set.add(word)\n",
        "    words_2_set = set()\n",
        "    for word in words_2:\n",
        "        if word not in words_2_set:\n",
        "            words_2_set.add(word)\n",
        "    intersection_sets = words_1_set & words_2_set\n",
        "    print('A list of the words that appear in both files:', intersection_sets)\n",
        "    print('A list of the words that appear in the first file but not the'\n",
        "          'second:', words_1_set - words_2_set)\n",
        "    print('A list of the words that appear in the second file but not the'\n",
        "          'first file:', words_2_set - words_1_set)\n",
        "    print('A list of the words that appear in either the first or second file'\n",
        "          'but not both:', words_1_set ^ words_2_set)\n",
        "read()"
      ],
      "metadata": {
        "id": "BLfO_rTvFkpS"
      },
      "execution_count": null,
      "outputs": []
    }
  ]
}