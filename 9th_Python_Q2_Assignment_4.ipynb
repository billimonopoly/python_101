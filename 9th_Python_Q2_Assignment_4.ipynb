{
  "nbformat": 4,
  "nbformat_minor": 0,
  "metadata": {
    "colab": {
      "provenance": [],
      "authorship_tag": "ABX9TyPszdKD0zSkj3Gtjn1ssODg",
      "include_colab_link": true
    },
    "kernelspec": {
      "name": "python3",
      "display_name": "Python 3"
    },
    "language_info": {
      "name": "python"
    }
  },
  "cells": [
    {
      "cell_type": "markdown",
      "metadata": {
        "id": "view-in-github",
        "colab_type": "text"
      },
      "source": [
        "<a href=\"https://colab.research.google.com/github/billimonopoly/python_101/blob/main/9th_Python_Q2_Assignment_4.ipynb\" target=\"_parent\"><img src=\"https://colab.research.google.com/assets/colab-badge.svg\" alt=\"Open In Colab\"/></a>"
      ]
    },
    {
      "cell_type": "markdown",
      "source": [
        "Assignment 4.3 - Budget Analysis"
      ],
      "metadata": {
        "id": "7QlFYDqLVzUD"
      }
    },
    {
      "cell_type": "code",
      "execution_count": 19,
      "metadata": {
        "colab": {
          "base_uri": "https://localhost:8080/"
        },
        "id": "eXRGPiQ1RGnO",
        "outputId": "3436b588-7101-4d31-8bc0-b934cedcff60"
      },
      "outputs": [
        {
          "output_type": "stream",
          "name": "stdout",
          "text": [
            "how much money did you budget for the month?200\n",
            "what month is it? please enter the number corresponding to the month (January would be 1)2\n",
            "is this year a leap year? true or false?false\n",
            "how much did you spend today?0\n",
            "your current budget is $ 200.0 . you have 28 days left of the month\n",
            "how much did you spend today?0\n",
            "your current budget is $ 200.0 . you have 27 days left of the month\n",
            "how much did you spend today?200\n",
            "your current budget is $ 0.0 . you have 26 days left of the month\n",
            "you are 0.0 dollars over-budget and have 26 days left of the month\n"
          ]
        }
      ],
      "source": [
        "##################\n",
        "#Assignment 4.3\n",
        "##################\n",
        "\n",
        "#this represents how much money was budgeted for the month\n",
        "monthly_budget=input('how much money did you budget for the month?')\n",
        "\n",
        "#this converts the string data type to a float data type so we can perform mathematical operations\n",
        "monthly_budget_float=float(monthly_budget)\n",
        "\n",
        "#this asks us what month it is\n",
        "month=input('what month is it? please enter the number corresponding to the month (January would be 1)')\n",
        "\n",
        "#this converts the month unmber to an integer, so we can break down the info this gives us\n",
        "month_int=float(month)\n",
        "\n",
        "#this determines how many days are in the month you are budgeting for\n",
        "if (month_int==1) or (month_int==3) or (month_int==5) or (month_int==7) or (month_int==8) or (month_int==10) or (month_int==12):\n",
        "    days_in_month=31\n",
        "if (month_int==2):\n",
        "    leap_year=input('is this year a leap year? true or false?')\n",
        "    leap_year=bool(leap_year)\n",
        "    if(leap_year==True):\n",
        "        days_in_month=29\n",
        "    if(leap_year==False):\n",
        "       days_in_month=28\n",
        "if (month_int==4) or (month_int==6) or (month_int==9) or (month_int==11):\n",
        "    days_in_month=30\n",
        "    \n",
        "#this calculates your budget and how many days are left inn the month\n",
        "while (days_in_month>0) and (monthly_budget_float>0):\n",
        "    day_spent=input('how much did you spend today?')\n",
        "    day_spent_float=float(day_spent)\n",
        "    monthly_budget_float=monthly_budget_float-day_spent_float\n",
        "    days_in_month=days_in_month-1\n",
        "    print('your current budget is $',monthly_budget_float, '. you have', days_in_month, 'days left of the month')\n",
        "\n",
        "#this shows wether you ended with leftover \n",
        "if (days_in_month>0):\n",
        "  monthly_budget_abs= abs(monthly_budget_float)\n",
        "  print('you are', monthly_budget_abs, 'dollars over-budget and have', days_in_month, 'days left of the month')\n",
        "if (monthly_budget_float>0):\n",
        "  print('congrats! you have', monthly_budget_float, 'left over at the end of the month!')\n",
        "if (monthly_budget_float==0) and (days_in_month==0):\n",
        "  print('you spent your money wisely! you have finished your money by the end of the month!')"
      ]
    },
    {
      "cell_type": "markdown",
      "source": [
        "Assignment 4.4 - Distance Traveled"
      ],
      "metadata": {
        "id": "NiM7TZZChDjT"
      }
    },
    {
      "cell_type": "code",
      "source": [
        "##################\n",
        "#Assignment 4.4\n",
        "##################\n",
        "\n",
        "#d=t*s\n",
        "\n",
        "speed=input('what is the speed of your train in mph?')\n",
        "time=input('how long has your train been traveling for (in hours)?')\n",
        "\n",
        "#for this assignment, we will only be using whole numbers, not decimals\n",
        "speed_int=int(speed)\n",
        "time_int=int(time)\n",
        "\n",
        "#this is the 'table' header\n",
        "print('distance traveled')\n",
        "print('time     distance')\n",
        "\n",
        "#this will calculate distace for each hour\n",
        "while(time_int>=0):\n",
        "    distance=time_int*speed_int\n",
        "    print(time_int,'            ', distance)\n",
        "    time_int=time_int-1"
      ],
      "metadata": {
        "id": "lfkB9DvNXcJJ"
      },
      "execution_count": null,
      "outputs": []
    },
    {
      "cell_type": "markdown",
      "source": [
        "Assignment 4.6 - Celcius to Fahrenheit"
      ],
      "metadata": {
        "id": "Viy3joOpl8_I"
      }
    },
    {
      "cell_type": "code",
      "source": [
        "##################\n",
        "#Assignment 4.6\n",
        "##################\n",
        "\n",
        "#this is the basic information needed for the calculations\n",
        "celcius=1\n",
        "fahrenheit=((9/5)*celcius)+32\n",
        "\n",
        "#this is the table formatting\n",
        "print ('celcius to fahrenheit conversion')\n",
        "print ('celcius               fahrenheit')\n",
        "\n",
        "#this is the loop, creates the contents of the table\n",
        "while(celcius<=20):\n",
        "    print(celcius,'              ',fahrenheit)\n",
        "    celcius=celcius+1\n",
        "    fahrenheit=((9/5)*celcius)+32"
      ],
      "metadata": {
        "id": "o2_HeU7yl71t"
      },
      "execution_count": null,
      "outputs": []
    }
  ]
}