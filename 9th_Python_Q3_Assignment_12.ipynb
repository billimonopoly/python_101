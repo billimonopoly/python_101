{
  "nbformat": 4,
  "nbformat_minor": 0,
  "metadata": {
    "colab": {
      "provenance": [],
      "authorship_tag": "ABX9TyO8aIgNKS1xtxRBNke/zEee",
      "include_colab_link": true
    },
    "kernelspec": {
      "name": "python3",
      "display_name": "Python 3"
    },
    "language_info": {
      "name": "python"
    }
  },
  "cells": [
    {
      "cell_type": "markdown",
      "metadata": {
        "id": "view-in-github",
        "colab_type": "text"
      },
      "source": [
        "<a href=\"https://colab.research.google.com/github/billimonopoly/python_101/blob/main/9th_Python_Q3_Assignment_12.ipynb\" target=\"_parent\"><img src=\"https://colab.research.google.com/assets/colab-badge.svg\" alt=\"Open In Colab\"/></a>"
      ]
    },
    {
      "cell_type": "code",
      "execution_count": 2,
      "metadata": {
        "colab": {
          "base_uri": "https://localhost:8080/"
        },
        "id": "vUfw_vd7KdTe",
        "outputId": "af42d831-ced7-4cb0-a4e8-c3c4b0a9efb1"
      },
      "outputs": [
        {
          "output_type": "stream",
          "name": "stdout",
          "text": [
            "Enter an alpha-numeric phone number: 555-GET-FOOD\n",
            "5554383663"
          ]
        }
      ],
      "source": [
        "phone_letters = {'A': '2','B': '2','C': '2','D': '3','E': '3',\n",
        "                 'F': '3','G': '4','H': '4','I': '4','J': '5',\n",
        "                 'K': '5','L': '5','M': '6','N': '6','O': '6',\n",
        "                 'P': '7','Q': '7','R': '7','S': '7','T': '8',\n",
        "                 'U': '8','V': '8','W': '9','X': '9','Y': '9',\n",
        "                 'Z': '9'}\n",
        "\n",
        "\n",
        "number = input('Enter an alpha-numeric phone number: ')\n",
        "\n",
        "result = []\n",
        "\n",
        "for n in number:\n",
        "    if n.isdigit():\n",
        "        str(result.append(n))\n",
        "    if n.isalpha():\n",
        "        value = phone_letters.get(n.capitalize())\n",
        "        result.append(value)\n",
        "\n",
        "for ch in result:\n",
        "    print(ch, end = '')"
      ]
    }
  ]
}