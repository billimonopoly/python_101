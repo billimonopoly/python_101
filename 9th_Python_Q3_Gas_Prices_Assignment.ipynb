{
  "nbformat": 4,
  "nbformat_minor": 0,
  "metadata": {
    "colab": {
      "provenance": [],
      "authorship_tag": "ABX9TyNb+e9IjcIex9feA/mMJWVG",
      "include_colab_link": true
    },
    "kernelspec": {
      "name": "python3",
      "display_name": "Python 3"
    },
    "language_info": {
      "name": "python"
    }
  },
  "cells": [
    {
      "cell_type": "markdown",
      "metadata": {
        "id": "view-in-github",
        "colab_type": "text"
      },
      "source": [
        "<a href=\"https://colab.research.google.com/github/billimonopoly/python_101/blob/main/9th_Python_Q3_Gas_Prices_Assignment.ipynb\" target=\"_parent\"><img src=\"https://colab.research.google.com/assets/colab-badge.svg\" alt=\"Open In Colab\"/></a>"
      ]
    },
    {
      "cell_type": "code",
      "source": [
        "import re\n",
        "import sys\n",
        "\n",
        "with open(\"gasprices.txt\",'r') as data_file:\n",
        "  a = 0\n",
        "  with open('usergasprice.txt','w') as new_file:\n",
        "    for line in data_file:\n",
        "      gasList = re.split(r'-|:', line)\n",
        "      #print(gasList)\n",
        "      month = 'month : '+gasList[0]\n",
        "      day = 'day : '+gasList[1]\n",
        "      year = 'year : '+gasList[2]\n",
        "      price = 'gas price : '+gasList[3]\n",
        "      a = a + 1\n",
        "      #final = '[',a,']\\n','month:',month,'\\n day:',day,'\\n year:',year,'\\n gas price:', price\n",
        "      new_file.write(month+'\\n'+day+'\\n'+year+'\\n'+price+'\\n')\n",
        "\n"
      ],
      "metadata": {
        "id": "cdAKDWxB8TMW"
      },
      "execution_count": 104,
      "outputs": []
    }
  ]
}