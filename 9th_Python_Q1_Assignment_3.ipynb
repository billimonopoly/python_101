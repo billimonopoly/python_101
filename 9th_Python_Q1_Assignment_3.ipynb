{
  "nbformat": 4,
  "nbformat_minor": 0,
  "metadata": {
    "colab": {
      "provenance": [],
      "toc_visible": true,
      "authorship_tag": "ABX9TyMN0yiyTwS9lhq/tmWBAdob",
      "include_colab_link": true
    },
    "kernelspec": {
      "name": "python3",
      "display_name": "Python 3"
    },
    "language_info": {
      "name": "python"
    }
  },
  "cells": [
    {
      "cell_type": "markdown",
      "metadata": {
        "id": "view-in-github",
        "colab_type": "text"
      },
      "source": [
        "<a href=\"https://colab.research.google.com/github/billimonopoly/python_101/blob/main/9th_Python_Q1_Assignment_3.ipynb\" target=\"_parent\"><img src=\"https://colab.research.google.com/assets/colab-badge.svg\" alt=\"Open In Colab\"/></a>"
      ]
    },
    {
      "cell_type": "markdown",
      "source": [
        "Assignment 3.10 - Money Counting Game"
      ],
      "metadata": {
        "id": "Ym9iCZV6oEP3"
      }
    },
    {
      "cell_type": "code",
      "execution_count": null,
      "metadata": {
        "colab": {
          "base_uri": "https://localhost:8080/"
        },
        "id": "sUyDEN7MVl6X",
        "outputId": "a3c12f52-d3eb-48e8-f5c3-f35b4c8dacd1"
      },
      "outputs": [
        {
          "output_type": "stream",
          "name": "stdout",
          "text": [
            "how many pennies do you have?2\n",
            "how many nickles do you have?3\n",
            "how many dimes do you have?4\n",
            "how many quarters do you have?5\n",
            "so close! you're over a dollar by 82 cents\n"
          ]
        }
      ],
      "source": [
        "##################\n",
        "#Assignment 3.10\n",
        "##################\n",
        "\n",
        "#this gives us the number of pennies\n",
        "pennies=input('how many pennies do you have?')\n",
        "\n",
        "#this gives us the number of nickles\n",
        "nickles=input('how many nickles do you have?')\n",
        "\n",
        "#this gives us the number of dimes\n",
        "dimes=input('how many dimes do you have?')\n",
        "\n",
        "#this gives us the number of quarters\n",
        "quarters=input('how many quarters do you have?')\n",
        "\n",
        "#now convert the string data type to integer data type\n",
        "pennies_int=int(pennies)\n",
        "nickles_int=int(nickles)\n",
        "dimes_int=int(dimes)\n",
        "quarters_int=int(quarters)\n",
        "\n",
        "#to find the total cents the user has, we will plug the values into the following formula\n",
        "total_cents=(1*pennies_int)+(5*nickles_int)+(10*dimes_int)+(25*quarters_int)\n",
        "\n",
        "#now we will subtract the total_cents from 100, to find out if the values given work\n",
        "leftover_cents=total_cents-100\n",
        "\n",
        "#in order to win the game, you must have 1 dollar, or 100 cents, so this determines wether you have won the game\n",
        "if leftover_cents==0:\n",
        "    print('congratulations, you win the game!')\n",
        "elif leftover_cents>0:\n",
        "    print(\"so close! you're over a dollar by\", abs(leftover_cents),'cents')\n",
        "elif leftover_cents<0:\n",
        "    print(\"so close! you're under a dollar by\", abs(leftover_cents),'cents')"
      ]
    },
    {
      "cell_type": "markdown",
      "source": [
        "Assignment 3.11 - Book Club Points"
      ],
      "metadata": {
        "id": "9OTThioWoKko"
      }
    },
    {
      "cell_type": "code",
      "source": [
        "##################\n",
        "#Assignment 3.11\n",
        "##################\n",
        "\n",
        "'''\n",
        "If a customer purchases 0 books, he or she earns 0 points.\n",
        "If a customer purchases 2 books, he or she earns 5 points.\n",
        "If a customer purchases 4 books, he or she earns 15 points.\n",
        "If a customer purchases 6 books, he or she earns 30 points.\n",
        "If a customer purchases 8 or more books, he or she earns 60 points.\n",
        "'''\n",
        "\n",
        "#this finds out how many books the customer purchased this month\n",
        "books_purchased=abs(int(input('how many books did you purchase this month?')))\n",
        "\n",
        "#this displays the books bought this month\n",
        "print('you have', books_purchased,'books this month')\n",
        "\n",
        "#this displays the points for the books this month, assuming that books above a certain range is attributed to the higher number of points\n",
        "if (books_purchased==0):\n",
        "    print('you have 0 points')\n",
        "if (0<=books_purchased)and(books_purchased<=2):\n",
        "    print('you have 5 points')\n",
        "if (2<=books_purchased)and(books_purchased<=4):\n",
        "    print('you have 15 points')\n",
        "if (4<=books_purchased)and(books_purchased<=6):\n",
        "    print('you have 30 points')\n",
        "if (8<=books_purchased):\n",
        "    print('you have 60 points')\n",
        "    "
      ],
      "metadata": {
        "colab": {
          "base_uri": "https://localhost:8080/"
        },
        "id": "YU1-PMxWWEX6",
        "outputId": "a3339c48-a549-4137-c550-ff5ad20c3113"
      },
      "execution_count": null,
      "outputs": [
        {
          "output_type": "stream",
          "name": "stdout",
          "text": [
            "how many books did you purchase this month?5\n",
            "you have 5 books this month\n",
            "you have 30 points\n"
          ]
        }
      ]
    }
  ]
}